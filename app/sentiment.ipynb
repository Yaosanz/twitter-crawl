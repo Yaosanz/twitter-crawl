{
 "cells": [
  {
   "cell_type": "code",
   "execution_count": null,
   "metadata": {
    "vscode": {
     "languageId": "plaintext"
    }
   },
   "outputs": [],
   "source": [
    "!pip install nltk\n",
    "!pip install Sastrawi\n",
    "!pip install scikit-learn"
   ]
  },
  {
   "cell_type": "code",
   "execution_count": null,
   "metadata": {
    "vscode": {
     "languageId": "plaintext"
    }
   },
   "outputs": [],
   "source": [
    "from google.colab import files\n",
    "import pandas as pd\n",
    "\n",
    "uploaded = files.upload()\n",
    "\n",
    "# Asumsi file yang diupload adalah CSV\n",
    "for fn in uploaded.keys():\n",
    "    data = pd.read_csv(fn)\n",
    "\n",
    "# Tampilkan data\n",
    "print(data.head())"
   ]
  },
  {
   "cell_type": "code",
   "execution_count": null,
   "metadata": {
    "vscode": {
     "languageId": "plaintext"
    }
   },
   "outputs": [],
   "source": [
    "data"
   ]
  },
  {
   "cell_type": "code",
   "execution_count": null,
   "metadata": {
    "vscode": {
     "languageId": "plaintext"
    }
   },
   "outputs": [],
   "source": [
    "# menghapus kolom yang tidak diperlukan\n",
    "data = data.drop(columns=['conversation_id_str','created_at','favorite_count','id_str','image_url','in_reply_to_screen_name','lang','quote_count','reply_count','retweet_count','tweet_url','user_id_str'])\n",
    "\n",
    "# Tampilkan data setelah kolom dihapus\n",
    "print(data.head())"
   ]
  },
  {
   "cell_type": "code",
   "execution_count": null,
   "metadata": {
    "vscode": {
     "languageId": "plaintext"
    }
   },
   "outputs": [],
   "source": [
    "import re\n",
    "import nltk\n",
    "nltk.download('punkt')\n",
    "nltk.download('stopwords')\n",
    "from nltk.tokenize import word_tokenize\n",
    "from nltk.corpus import stopwords\n",
    "from Sastrawi.Stemmer.StemmerFactory import StemmerFactory\n",
    "\n",
    "# Fungsi Cleaning\n",
    "def clean_text(text):\n",
    "    text = re.sub(r'http\\S+|www.\\S+', '', text)  # Menghilangkan URL\n",
    "    text = re.sub(r'\\d+', '', text)  # Menghilangkan angka\n",
    "    text = re.sub(r'[^\\w\\s]', '', text)  # Menghilangkan tanda baca\n",
    "    text = re.sub(r'\\s+', ' ', text).strip()  # Menghilangkan spasi ganda\n",
    "    return text\n",
    "\n",
    "# Fungsi Case Folding\n",
    "def case_folding(text):\n",
    "    return text.lower()\n",
    "\n",
    "# Fungsi Tokenizing\n",
    "def tokenize(text):\n",
    "    return word_tokenize(text)\n",
    "\n",
    "# Fungsi Stopword Removal\n",
    "stop_words = set(stopwords.words('indonesian'))\n",
    "def remove_stopwords(tokens):\n",
    "    return [word for word in tokens if word not in stop_words]\n",
    "\n",
    "# Fungsi Stemming\n",
    "factory = StemmerFactory()\n",
    "stemmer = factory.create_stemmer()\n",
    "def stemming(tokens):\n",
    "    return [stemmer.stem(word) for word in tokens]\n",
    "\n",
    "# Fungsi Preprocessing Utuh\n",
    "def preprocess_text(text):\n",
    "    # Tangani nilai NaN\n",
    "    if pd.isna(text):\n",
    "        text = ''\n",
    "    text = clean_text(text)\n",
    "    text = case_folding(text)\n",
    "    tokens = tokenize(text)\n",
    "    tokens = remove_stopwords(tokens)\n",
    "    tokens = stemming(tokens)\n",
    "    return ' '.join(tokens)\n"
   ]
  },
  {
   "cell_type": "code",
   "execution_count": null,
   "metadata": {
    "vscode": {
     "languageId": "plaintext"
    }
   },
   "outputs": [],
   "source": [
    "data['processed_location'] = data['location'].apply(preprocess_text)\n",
    "data['processed_text'] = data['full_text'].apply(preprocess_text)\n",
    "data = data[data['processed_location'] != '']\n",
    "print(data.head())"
   ]
  },
  {
   "cell_type": "code",
   "execution_count": null,
   "metadata": {
    "vscode": {
     "languageId": "plaintext"
    }
   },
   "outputs": [],
   "source": [
    "# Menampilkan DataFrame dengan pengaturan lebar yang disesuaikan\n",
    "from IPython.display import display\n",
    "\n",
    "# Tampilkan DataFrame hanya dengan kolom 'processed_location'\n",
    "display(data[['processed_location']])\n"
   ]
  },
  {
   "cell_type": "code",
   "execution_count": null,
   "metadata": {
    "vscode": {
     "languageId": "plaintext"
    }
   },
   "outputs": [],
   "source": [
    "def label_text(text):\n",
    "    positive_words = { 'Alhamdulilah', 'selamat', 'baik', 'semangat', 'keren', 'luar', 'biasa','sangat', 'insya', 'allah'}\n",
    "    negative_words = {'gila', 'doxxing', 'serem', 'protes', 'menghina', 'sanksi', 'nyindir', 'singgung', 'umpatan', 'aneh', 'adu', 'tolol', 'goblok', 'bodoh', 'menyesatkan', 'bangsat', 'buruk', 'anjing', 'gaasik', 'kecurangan', 'capek'}\n",
    "\n",
    "    if any(word in text for word in positive_words):\n",
    "        return 'positif'\n",
    "    else :\n",
    "        return 'negatif'\n",
    "\n",
    "# Terapkan fungsi pelabelan ke kolom 'final_text'\n",
    "data['sentiment'] = data['processed_text'].apply(label_text)\n",
    "\n",
    "# Tampilkan DataFrame untuk memverifikasi\n",
    "print(data[['processed_text', 'sentiment', 'location']])"
   ]
  },
  {
   "cell_type": "markdown",
   "metadata": {},
   "source": [
    "MENGHITUNG SENTIMENT BERDASARKAN LOKASI"
   ]
  },
  {
   "cell_type": "code",
   "execution_count": null,
   "metadata": {
    "vscode": {
     "languageId": "plaintext"
    }
   },
   "outputs": [],
   "source": [
    "sentiment_distribution = data.groupby(['processed_location', 'sentiment']).size().reset_index(name='counts')\n",
    "print(sentiment_distribution[['processed_location', 'sentiment', 'counts']])"
   ]
  },
  {
   "cell_type": "code",
   "execution_count": null,
   "metadata": {
    "vscode": {
     "languageId": "plaintext"
    }
   },
   "outputs": [],
   "source": [
    "from sklearn.model_selection import train_test_split\n",
    "\n",
    "X = data['processed_text']\n",
    "y = data['sentiment']\n",
    "\n",
    "X_train, X_test, y_train, y_test = train_test_split(X, y, test_size=0.2, random_state=42)"
   ]
  },
  {
   "cell_type": "code",
   "execution_count": null,
   "metadata": {
    "vscode": {
     "languageId": "plaintext"
    }
   },
   "outputs": [],
   "source": [
    "from sklearn.feature_extraction.text import TfidfVectorizer\n",
    "\n",
    "vectorizer = TfidfVectorizer()\n",
    "X_train_vec = vectorizer.fit_transform(X_train)\n",
    "X_test_vec = vectorizer.transform(X_test)\n",
    "\n",
    "# Mendapatkan fitur (kata-kata) dari vectorizer\n",
    "full_text = vectorizer.get_feature_names_out()\n",
    "\n",
    "# Mengubah X_train_vec menjadi DataFrame\n",
    "X_train_tfidf_df = pd.DataFrame(X_train_vec.toarray(), columns= full_text)\n",
    "\n",
    "# Mengubah X_test_vec menjadi DataFrame (opsional)\n",
    "X_test_tfidf_df = pd.DataFrame(X_test_vec.toarray(), columns= full_text)\n",
    "\n",
    "# Menampilkan DataFrame TF-IDF\n",
    "print(\"TF-IDF untuk data pelatihan:\")\n",
    "print(X_train_tfidf_df)\n",
    "\n",
    "print(\"\\nTF-IDF untuk data pengujian:\")\n",
    "print(X_test_tfidf_df)"
   ]
  },
  {
   "cell_type": "code",
   "execution_count": null,
   "metadata": {
    "vscode": {
     "languageId": "plaintext"
    }
   },
   "outputs": [],
   "source": [
    "from sklearn.naive_bayes import MultinomialNB\n",
    "\n",
    "model = MultinomialNB()\n",
    "model.fit(X_train_vec, y_train)\n",
    "\n",
    "y_pred = model.predict(X_test_vec)\n",
    "\n",
    "for text, true_label, predicted_label in zip(X_test, y_test, y_pred):\n",
    "    print(f\"Text: {text}\")\n",
    "    print(f\"Actual Sentiment: {true_label}\")\n",
    "    print(f\"Predicted Sentiment: {predicted_label}\")\n",
    "    print()\n"
   ]
  },
  {
   "cell_type": "code",
   "execution_count": null,
   "metadata": {
    "vscode": {
     "languageId": "plaintext"
    }
   },
   "outputs": [],
   "source": [
    "from sklearn.metrics import confusion_matrix, accuracy_score, classification_report, ConfusionMatrixDisplay\n",
    "import matplotlib.pyplot as plt\n",
    "\n",
    "y_pred = model.predict(X_test_vec)\n",
    "\n",
    "# Akurasi\n",
    "accuracy = accuracy_score(y_test, y_pred)\n",
    "print(f'Accuracy: {accuracy}')\n",
    "\n",
    "# Laporan Klasifikasi\n",
    "report = classification_report(y_test, y_pred)\n",
    "print(f'Classification Report:\\n{report}')\n",
    "\n",
    "# Confusion Matrix\n",
    "conf_matrix = confusion_matrix(y_test, y_pred)\n",
    "disp = ConfusionMatrixDisplay(confusion_matrix=conf_matrix, display_labels=model.classes_)\n",
    "disp.plot(cmap=plt.cm.Blues)\n",
    "plt.show()"
   ]
  }
 ],
 "metadata": {
  "language_info": {
   "name": "python"
  }
 },
 "nbformat": 4,
 "nbformat_minor": 2
}
